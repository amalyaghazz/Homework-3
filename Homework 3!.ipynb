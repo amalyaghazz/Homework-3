{
 "cells": [
  {
   "cell_type": "code",
   "execution_count": 76,
   "id": "04698788",
   "metadata": {},
   "outputs": [
    {
     "name": "stdout",
     "output_type": "stream",
     "text": [
      "88\n"
     ]
    }
   ],
   "source": [
    "#Question 1\n",
    "\n",
    "def print_student(student_name):\n",
    "    marks = {'Andy': 88, 'Amy': 66, 'James':90, 'Jules': 55, 'Arthur': 77}\n",
    "    for student in marks:\n",
    "        if student == student_name:\n",
    "            print(marks[student])\n",
    "            break\n",
    "    else:\n",
    "        print('No entry with that name.')\n",
    "\n",
    "print_student(\"Andy\")\n",
    "    "
   ]
  },
  {
   "cell_type": "code",
   "execution_count": null,
   "id": "ba779ead",
   "metadata": {},
   "outputs": [],
   "source": []
  },
  {
   "cell_type": "code",
   "execution_count": 77,
   "id": "9602d18f",
   "metadata": {},
   "outputs": [
    {
     "name": "stdout",
     "output_type": "stream",
     "text": [
      "Average for Andy is 88.00\n",
      "Average for Amy is 66.00\n",
      "Average for James is 90.00\n",
      "Average for Jules is 55.00\n",
      "Average for Arthur is 77.00\n",
      "Class's average is: 75.20\n"
     ]
    }
   ],
   "source": [
    "#Question 1 part 2\n",
    "\n",
    "grade_book = {            \n",
    "    'Andy': [88], \n",
    "    'Amy': [66],\n",
    "    'James': [90],  \n",
    "    'Jules': [55],\n",
    "    'Arthur': [77]\n",
    "}\n",
    "\n",
    "all_grades_total = 0\n",
    "all_grades_count = 0\n",
    "\n",
    "for name, grades in grade_book.items():\n",
    "    total = sum(grades)\n",
    "    print(f'Average for {name} is {total/len(grades):.2f}')\n",
    "    all_grades_total += total\n",
    "    all_grades_count += len(grades)\n",
    "\n",
    "print(f\"Class's average is: {all_grades_total / all_grades_count:.2f}\")"
   ]
  },
  {
   "cell_type": "code",
   "execution_count": null,
   "id": "2a12e89c",
   "metadata": {},
   "outputs": [],
   "source": []
  },
  {
   "cell_type": "code",
   "execution_count": 78,
   "id": "06996d2d",
   "metadata": {},
   "outputs": [
    {
     "name": "stdout",
     "output_type": "stream",
     "text": [
      "0\n",
      "square: 1\n",
      "1\n",
      "square: 4\n",
      "2\n",
      "square: 9\n",
      "3\n",
      "square: 16\n",
      "4\n",
      "square: 25\n",
      "5\n",
      "square: 36\n",
      "6\n",
      "square: 49\n",
      "7\n",
      "square: 64\n",
      "8\n",
      "square: 81\n",
      "greater than 8\n"
     ]
    }
   ],
   "source": [
    "#Question 2\n",
    "\n",
    "def square(num):\n",
    "    n = 0\n",
    "    while n <= num:\n",
    "        print(n)\n",
    "        n+=1\n",
    "        square = n*n\n",
    "        print(\"square:\", square)\n",
    "              \n",
    "    else: \n",
    "        print (\"greater than\", num)\n",
    "        \n",
    "square(8)"
   ]
  },
  {
   "cell_type": "code",
   "execution_count": null,
   "id": "db052edc",
   "metadata": {},
   "outputs": [],
   "source": []
  },
  {
   "cell_type": "code",
   "execution_count": 79,
   "id": "9ca9b326",
   "metadata": {},
   "outputs": [
    {
     "name": "stdout",
     "output_type": "stream",
     "text": [
      "55\n"
     ]
    }
   ],
   "source": [
    "#Question 3\n",
    "\n",
    "def sums(num):\n",
    "    n = 1\n",
    "    sum = 0\n",
    "    while n <=num:\n",
    "        sum = sum+n\n",
    "        n = n+1\n",
    "    print(sum)\n",
    "\n",
    "sums(10)"
   ]
  },
  {
   "cell_type": "code",
   "execution_count": null,
   "id": "d042233b",
   "metadata": {},
   "outputs": [],
   "source": []
  },
  {
   "cell_type": "code",
   "execution_count": 80,
   "id": "be4fe31b",
   "metadata": {},
   "outputs": [
    {
     "name": "stdout",
     "output_type": "stream",
     "text": [
      "28\n"
     ]
    }
   ],
   "source": [
    "#Question 4\n",
    "\n",
    "def sumRange(num):\n",
    "    sum = 0\n",
    "    for n in range(num):\n",
    "        sum = sum + n\n",
    "    print(sum)\n",
    "    \n",
    "sumRange(8)"
   ]
  },
  {
   "cell_type": "code",
   "execution_count": null,
   "id": "5ee0fe7b",
   "metadata": {},
   "outputs": [],
   "source": []
  },
  {
   "cell_type": "code",
   "execution_count": 81,
   "id": "25256f4d",
   "metadata": {},
   "outputs": [
    {
     "name": "stdout",
     "output_type": "stream",
     "text": [
      "49.5\n",
      "4950\n",
      "28.86607004772212\n"
     ]
    }
   ],
   "source": [
    "#Question 5\n",
    "\n",
    "def math():\n",
    "\n",
    "    import statistics as stats\n",
    "\n",
    "    numbers = []\n",
    "    for item in range(0, 100):\n",
    "        numbers.append(item)\n",
    "    \n",
    "    \n",
    "print(stats.mean(numbers))\n",
    "print(sum(numbers))\n",
    "\n",
    "statistics.pstdev(numbers) \n",
    "import math\n",
    "SD = math.sqrt(statistics.pvariance(numbers))\n",
    "print(SD)"
   ]
  },
  {
   "cell_type": "code",
   "execution_count": null,
   "id": "c3c2e06f",
   "metadata": {},
   "outputs": [],
   "source": []
  },
  {
   "cell_type": "code",
   "execution_count": 82,
   "id": "6ca06743",
   "metadata": {},
   "outputs": [
    {
     "data": {
      "text/plain": [
       "2"
      ]
     },
     "execution_count": 82,
     "metadata": {},
     "output_type": "execute_result"
    }
   ],
   "source": [
    "#Question 6\n",
    "\n",
    "def minimum(v1,v2,v3,v4):\n",
    "    min_value = v1\n",
    "    if v2 < min_value:\n",
    "        min_value = v2\n",
    "    if v3 < min_value:\n",
    "        min_value = v3\n",
    "    return min_value \n",
    "\n",
    "\n",
    "minimum(2,4,6,8)"
   ]
  },
  {
   "cell_type": "code",
   "execution_count": null,
   "id": "94d2654e",
   "metadata": {},
   "outputs": [],
   "source": []
  },
  {
   "cell_type": "code",
   "execution_count": 90,
   "id": "bdece38c",
   "metadata": {},
   "outputs": [
    {
     "name": "stdout",
     "output_type": "stream",
     "text": [
      "It's spring season!\n"
     ]
    }
   ],
   "source": [
    "def sentence():\n",
    "    string1 = \"It's \"\n",
    "    string2 = \"spring \"\n",
    "    string3 = \"season!\"\n",
    "    \n",
    "    sentence = string1 + string2 + string3\n",
    "    return sentence\n",
    "\n",
    "print(sentence())"
   ]
  },
  {
   "cell_type": "code",
   "execution_count": null,
   "id": "44182e86",
   "metadata": {},
   "outputs": [],
   "source": []
  }
 ],
 "metadata": {
  "kernelspec": {
   "display_name": "Python 3 (ipykernel)",
   "language": "python",
   "name": "python3"
  },
  "language_info": {
   "codemirror_mode": {
    "name": "ipython",
    "version": 3
   },
   "file_extension": ".py",
   "mimetype": "text/x-python",
   "name": "python",
   "nbconvert_exporter": "python",
   "pygments_lexer": "ipython3",
   "version": "3.9.13"
  }
 },
 "nbformat": 4,
 "nbformat_minor": 5
}
